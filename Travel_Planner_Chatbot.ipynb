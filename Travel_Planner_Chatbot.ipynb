{
  "cells": [
    {
      "cell_type": "markdown",
      "id": "293f8d2e",
      "metadata": {
        "id": "293f8d2e"
      },
      "source": [
        "# Travel Planner Chatbot\n",
        "\n",
        "The Travel Planner Chatbot project is an intelligent, user-driven assistant that recommends Airbnb listings in New York City based on personalized preferences such as price range, room type (e.g., entire home/apt), and neighborhood. Built by using Python, OpenAI’s GPT model, and LangChain’s Retrieval-Augmented Generation (RAG) framework, the chatbot leverages structured CSV data and vector search to match users with relevant, high-quality rental options. It enhances reliability by including only listings with sufficient reviews, high ratings, and confirmed current availability based on both dataset filtering and real-time URL checks.\n",
        "\n",
        "The final output delivers concise listing suggestions that include pricing, rating, room details, and direct Airbnb links for checking the accomodation details for travelers. While the dataset does not include images, the system is structured to allow clickable listing URLs for users to view photos and book directly. The project demonstrates how AI, embeddings, and structured data can come together to solve real-world planning problems, offering a scalable template for other cities or platforms in future travel applications."
      ]
    },
    {
      "cell_type": "markdown",
      "source": [
        "## Dataset: New York Airbnb Open Data 2024\n",
        "\n",
        "Airbnb listings and metrics in NYC, NY, USA as of 05 January, 2024, which is available at [Kaggle.](https://www.kaggle.com/datasets/vrindakallu/new-york-dataset)"
      ],
      "metadata": {
        "id": "A2cXxc7xgPLZ"
      },
      "id": "A2cXxc7xgPLZ"
    },
    {
      "cell_type": "markdown",
      "source": [
        "## Setup"
      ],
      "metadata": {
        "id": "K8J3-pWqglWX"
      },
      "id": "K8J3-pWqglWX"
    },
    {
      "cell_type": "code",
      "source": [
        "# Mounting to Google Drive\n",
        "from google.colab import drive\n",
        "drive.mount('/content/drive')"
      ],
      "metadata": {
        "colab": {
          "base_uri": "https://localhost:8080/"
        },
        "id": "vtQddpYYVH2s",
        "outputId": "95e95421-e058-4e2b-fadb-e44a5cc448fe"
      },
      "id": "vtQddpYYVH2s",
      "execution_count": null,
      "outputs": [
        {
          "output_type": "stream",
          "name": "stdout",
          "text": [
            "Mounted at /content/drive\n"
          ]
        }
      ]
    },
    {
      "cell_type": "code",
      "source": [
        "cd \"your-path-here\""
      ],
      "metadata": {
        "id": "K2Pc47BTt6v1"
      },
      "id": "K2Pc47BTt6v1",
      "execution_count": null,
      "outputs": []
    },
    {
      "cell_type": "code",
      "source": [
        "# Install Dependencies\n",
        "%%capture\n",
        "!pip install openai faiss-cpu pandas langchain langchain-community tiktoken\n",
        "!pip install --upgrade openai\n",
        "!pip install -U langchain-openai"
      ],
      "metadata": {
        "id": "mv3zU3GR8Fe9"
      },
      "id": "mv3zU3GR8Fe9",
      "execution_count": null,
      "outputs": []
    },
    {
      "cell_type": "code",
      "source": [
        "# Import libraries\n",
        "%%capture\n",
        "import os\n",
        "import openai\n",
        "from openai import OpenAI\n",
        "from langchain.vectorstores import FAISS\n",
        "from langchain.docstore.document import Document\n",
        "from langchain.chains import RetrievalQA\n",
        "from langchain_openai import OpenAIEmbeddings\n",
        "from langchain_openai import ChatOpenAI\n",
        "import pandas as pd\n",
        "import textwrap\n",
        "import requests\n"
      ],
      "metadata": {
        "id": "TUfF2vTH8i3W"
      },
      "id": "TUfF2vTH8i3W",
      "execution_count": null,
      "outputs": []
    },
    {
      "cell_type": "code",
      "source": [
        "# Set your OpenAI API key\n",
        "os.environ['OPENAI_API_KEY'] = 'your-openai-api-key-here'"
      ],
      "metadata": {
        "id": "QoPE-5Ost_DH"
      },
      "id": "QoPE-5Ost_DH",
      "execution_count": null,
      "outputs": []
    },
    {
      "cell_type": "markdown",
      "source": [
        "## Load Data"
      ],
      "metadata": {
        "id": "vSCXUsZAgvSq"
      },
      "id": "vSCXUsZAgvSq"
    },
    {
      "cell_type": "code",
      "source": [
        "# Load csv file\n",
        "\n",
        "file_path = \"your-path-here/new_york_listings_2024.csv\"   # your path to csv file here\n",
        "df = pd.read_csv(file_path)\n",
        "\n",
        "df.columns"
      ],
      "metadata": {
        "colab": {
          "base_uri": "https://localhost:8080/"
        },
        "id": "R3RfICGnM0wI",
        "outputId": "556fbd6a-bcbf-4e2e-ae60-0ef28dbe2b73"
      },
      "id": "R3RfICGnM0wI",
      "execution_count": null,
      "outputs": [
        {
          "output_type": "execute_result",
          "data": {
            "text/plain": [
              "Index(['id', 'name', 'host_id', 'host_name', 'neighbourhood_group',\n",
              "       'neighbourhood', 'latitude', 'longitude', 'room_type', 'price',\n",
              "       'minimum_nights', 'number_of_reviews', 'last_review',\n",
              "       'reviews_per_month', 'calculated_host_listings_count',\n",
              "       'availability_365', 'number_of_reviews_ltm', 'license', 'rating',\n",
              "       'bedrooms', 'beds', 'baths'],\n",
              "      dtype='object')"
            ]
          },
          "metadata": {},
          "execution_count": 6
        }
      ]
    },
    {
      "cell_type": "code",
      "source": [
        "# Convert rating column to numeric, forcing errors to NaN\n",
        "df['rating'] = pd.to_numeric(df['rating'], errors='coerce')"
      ],
      "metadata": {
        "id": "NK90cbkyX1Mu"
      },
      "id": "NK90cbkyX1Mu",
      "execution_count": null,
      "outputs": []
    },
    {
      "cell_type": "markdown",
      "source": [
        "## Set User Preferences"
      ],
      "metadata": {
        "id": "HYCgWLgmgyyw"
      },
      "id": "HYCgWLgmgyyw"
    },
    {
      "cell_type": "code",
      "source": [
        "# Ask user preferences\n",
        "budget_input = input(\"What's your budget per night in USD? (e.g., 100–300): \").strip()\n",
        "room_type_input = input(\"Preferred room type (e.g., entire home/apt, private room): \").strip()\n",
        "neighbourhood_input = input(\"Preferred neighborhood (e.g., SoHo, Brooklyn, etc): \").strip()\n",
        "\n",
        "# Save original for title\n",
        "budget_display = budget_input.replace(\" \", \"\")  # remove spaces for cleaner display\n",
        "\n",
        "# Parse budget range for filtering\n",
        "try:\n",
        "    budget_min, budget_max = map(float, budget_display.split(\"–\"))\n",
        "    valid_budget = True\n",
        "except:\n",
        "    budget_min, budget_max = 0, 1000\n",
        "    valid_budget = False\n",
        "    if not budget_display:\n",
        "        budget_display = \"0–1000\"  # Only override if user input was blank or broken"
      ],
      "metadata": {
        "colab": {
          "base_uri": "https://localhost:8080/"
        },
        "id": "pMBHbfvGVUsI",
        "outputId": "7c6f4e00-3d9f-49d2-ec65-8f85192ac95a"
      },
      "id": "pMBHbfvGVUsI",
      "execution_count": null,
      "outputs": [
        {
          "name": "stdout",
          "output_type": "stream",
          "text": [
            "What's your budget per night in USD? (e.g., 100–300): 100-300\n",
            "Preferred room type (e.g., entire home/apt, private room): entire home/apt\n",
            "Preferred neighborhood (e.g., SoHo, Brooklyn, etc): Brooklyn\n"
          ]
        }
      ]
    },
    {
      "cell_type": "code",
      "source": [
        "# Filter Listings Based on User Criteria\n",
        "# Apply filters: price, room type, area, rating, reviews, availability\n",
        "filtered_df = df[\n",
        "    (df['price'].between(budget_min, budget_max, inclusive='both')) &\n",
        "    (df['room_type'].str.lower().str.contains(room_type_input.lower())) &\n",
        "    (df['neighbourhood'].str.contains(neighbourhood_input, case=False, na=False)) &\n",
        "    (df['number_of_reviews'] >= 5) &\n",
        "    (df['rating'] >= 4.0) &\n",
        "    (df['availability_365'] > 0) &\n",
        "    (df['name'].notnull()) &\n",
        "    (df['name'].str.strip() != \"\")\n",
        "]\n",
        "\n",
        "# Sort listings by rating and reviews (descending)\n",
        "filtered_df = filtered_df.sort_values(by=['rating', 'number_of_reviews'], ascending=[False, False])"
      ],
      "metadata": {
        "id": "gqzr4-qEXYCs"
      },
      "id": "gqzr4-qEXYCs",
      "execution_count": null,
      "outputs": []
    },
    {
      "cell_type": "code",
      "source": [
        "# Define Function to Check URL Validity\n",
        "# Function to check if Airbnb listing is still active\n",
        "\n",
        "def is_listing_active(url):\n",
        "    try:\n",
        "        response = requests.head(url, allow_redirects=True, timeout=5)\n",
        "        return response.status_code == 200\n",
        "    except:\n",
        "        return False"
      ],
      "metadata": {
        "id": "u8QxN-2-c4Id"
      },
      "id": "u8QxN-2-c4Id",
      "execution_count": null,
      "outputs": []
    },
    {
      "cell_type": "markdown",
      "source": [
        "## Build Documents"
      ],
      "metadata": {
        "id": "fKCZeTvbtqT4"
      },
      "id": "fKCZeTvbtqT4"
    },
    {
      "cell_type": "code",
      "source": [
        "# Build Verified Listing Descriptions\n",
        "# Only use listings with active URLs\n",
        "\n",
        "documents = []\n",
        "\n",
        "# Limit to top N listings to avoid delay from too many HTTP checks\n",
        "top_n = 30\n",
        "checked = 0\n",
        "\n",
        "for _, row in filtered_df.head(top_n).iterrows():\n",
        "    listing_id = row.get('id')\n",
        "    url = f\"https://airbnb.com/rooms/{listing_id}\" if pd.notna(listing_id) else None\n",
        "\n",
        "    # Skip if URL is invalid or unavailable\n",
        "    if not url or not is_listing_active(url):\n",
        "        continue\n",
        "\n",
        "    name = row.get('name', 'Unknown Title')\n",
        "    neighbourhood = row.get('neighbourhood', 'Unknown')\n",
        "    room_type = row.get('room_type', 'N/A')\n",
        "    price = row.get('price', 'N/A')\n",
        "    rating = row.get('rating', 'N/A')\n",
        "    reviews = int(row.get('number_of_reviews', 0))\n",
        "    bedrooms = row.get('bedrooms', 'N/A')\n",
        "    baths = row.get('baths', 'N/A')\n",
        "\n",
        "    description = (\n",
        "        f\"Highly rated {room_type.lower()} in {neighbourhood}.\\n\"\n",
        "        f\"{rating}/5 with {reviews} reviews.\\n\"\n",
        "        f\"{bedrooms} bedroom ·{baths} baths ·${price} per night.\\n\"\n",
        "    )\n",
        "\n",
        "    doc = (\n",
        "        f\"Name: {name}\\n\"\n",
        "        f\"Neighbourhood: {neighbourhood}\\n\"\n",
        "        f\"Room Type: {room_type}\\n\"\n",
        "        f\"Price: ${price} per night\\n\"\n",
        "        f\"Rating: {rating}/5 ({reviews} reviews)\\n\"\n",
        "        f\"Bedrooms: {bedrooms} | Baths: {baths}\\n\"\n",
        "        f\"URL: {url}\\n\"\n",
        "        f\"Description: {description}\"\n",
        "    )\n",
        "\n",
        "    documents.append(Document(page_content=doc))\n",
        "    checked += 1"
      ],
      "metadata": {
        "id": "8r2eMMKjc4LL"
      },
      "id": "8r2eMMKjc4LL",
      "execution_count": null,
      "outputs": []
    },
    {
      "cell_type": "markdown",
      "source": [
        "## Create Embeddings and Vectore Store"
      ],
      "metadata": {
        "id": "ay8XQmNTg7AC"
      },
      "id": "ay8XQmNTg7AC"
    },
    {
      "cell_type": "code",
      "source": [
        "embedding_model = OpenAIEmbeddings()\n",
        "vectorstore = FAISS.from_documents(documents, embedding_model)"
      ],
      "metadata": {
        "id": "CtsjdJ3Jc4OQ"
      },
      "id": "CtsjdJ3Jc4OQ",
      "execution_count": null,
      "outputs": []
    },
    {
      "cell_type": "markdown",
      "source": [
        "## Setup Retrieval QA Chain"
      ],
      "metadata": {
        "id": "E2CCC5PDg-UV"
      },
      "id": "E2CCC5PDg-UV"
    },
    {
      "cell_type": "code",
      "source": [
        "llm = ChatOpenAI(model_name='gpt-3.5-turbo-0125', temperature=0.0)\n",
        "qa_chain = RetrievalQA.from_chain_type(llm=llm, retriever=vectorstore.as_retriever())"
      ],
      "metadata": {
        "id": "_asccoIwdexY"
      },
      "id": "_asccoIwdexY",
      "execution_count": null,
      "outputs": []
    },
    {
      "cell_type": "markdown",
      "source": [
        "## Recommendations for Traveler"
      ],
      "metadata": {
        "id": "0xfhOBnzhu3l"
      },
      "id": "0xfhOBnzhu3l"
    },
    {
      "cell_type": "code",
      "source": [
        "# Build a prompt based on filtered, verified listings\n",
        "user_query = (\n",
        "    f\"Suggest the best verified Airbnb listings in {neighbourhood_input} \"\n",
        "    f\"with a {room_type_input} around ${budget_display} per night. \"\n",
        "    f\"Include name, price, rating, bedrooms, baths, and URL.\"\n",
        ")"
      ],
      "metadata": {
        "id": "r75Weawldez7"
      },
      "id": "r75Weawldez7",
      "execution_count": null,
      "outputs": []
    },
    {
      "cell_type": "code",
      "source": [
        "# Run the RAG pipeline\n",
        "response = qa_chain.invoke(user_query)\n",
        "\n",
        "# Format heading using user preferences\n",
        "title_room = room_type_input.title().replace(\"Apt\", \"Apartment\")\n",
        "title_neighborhood = neighbourhood_input.title()\n",
        "\n",
        "# Print clean heading\n",
        "print(f\"**Top-Rated Airbnb Listings for You as {title_room} in \"\n",
        "      f\"{title_neighborhood} for the Price Range ${budget_display}:**\\n\")\n",
        "\n",
        "# Print only structured result\n",
        "print(response['result'])"
      ],
      "metadata": {
        "colab": {
          "base_uri": "https://localhost:8080/"
        },
        "id": "IGxIDQGtna47",
        "outputId": "1c352eed-3e60-46a4-eeee-0a2c5bec11a6"
      },
      "id": "IGxIDQGtna47",
      "execution_count": null,
      "outputs": [
        {
          "output_type": "stream",
          "name": "stdout",
          "text": [
            "**Top-Rated Airbnb Listings for You as Entire Home/Apartment in Brooklyn for the Price Range $100-300:**\n",
            "\n",
            "1. Name: Rental unit in Brooklyn · ★4.83\n",
            "   Neighbourhood: Brooklyn Heights\n",
            "   Room Type: Entire home/apt\n",
            "   Price: $100.0 per night\n",
            "   Rating: 4.83/5 (35 reviews)\n",
            "   Bedrooms: 1 | Baths: 1\n",
            "   URL: https://airbnb.com/rooms/4465274\n",
            "\n",
            "2. Name: Rental unit in Brooklyn · ★4.99\n",
            "   Neighbourhood: Brooklyn Heights\n",
            "   Room Type: Entire home/apt\n",
            "   Price: $130.0 per night\n",
            "   Rating: 4.99/5 (80 reviews)\n",
            "   Bedrooms: 1 | Baths: 1\n",
            "   URL: https://airbnb.com/rooms/40731114\n"
          ]
        }
      ]
    }
  ],
  "metadata": {
    "colab": {
      "provenance": []
    },
    "language_info": {
      "name": "python"
    },
    "kernelspec": {
      "name": "python3",
      "display_name": "Python 3"
    }
  },
  "nbformat": 4,
  "nbformat_minor": 5
}